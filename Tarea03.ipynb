{
  "nbformat": 4,
  "nbformat_minor": 0,
  "metadata": {
    "colab": {
      "provenance": [],
      "authorship_tag": "ABX9TyNozsKTyy8P5DCeLj4z6Juk",
      "include_colab_link": true
    },
    "kernelspec": {
      "name": "python3",
      "display_name": "Python 3"
    },
    "language_info": {
      "name": "python"
    }
  },
  "cells": [
    {
      "cell_type": "markdown",
      "metadata": {
        "id": "view-in-github",
        "colab_type": "text"
      },
      "source": [
        "<a href=\"https://colab.research.google.com/github/ProfRTRD/Herramientas-comp/blob/main/Tarea03.ipynb\" target=\"_parent\"><img src=\"https://colab.research.google.com/assets/colab-badge.svg\" alt=\"Open In Colab\"/></a>"
      ]
    },
    {
      "cell_type": "code",
      "execution_count": 18,
      "metadata": {
        "colab": {
          "base_uri": "https://localhost:8080/"
        },
        "id": "aeEnZlqgGFgq",
        "outputId": "73f350fd-852d-4623-9c8f-1c061b6f5a98"
      },
      "outputs": [
        {
          "output_type": "stream",
          "name": "stdout",
          "text": [
            "y = 1.00x + -0.03\n",
            "y = 1.00x + -0.07\n",
            "y = 1.00x + -0.10\n",
            "y = 1.00x + -0.13\n",
            "y = 1.00x + -0.17\n",
            "y = 1.00x + -0.20\n",
            "y = 1.00x + -0.23\n",
            "y = 1.00x + -0.27\n",
            "y = 1.00x + -0.30\n",
            "y = 1.00x + -0.33\n",
            "y = 1.00x + -0.37\n",
            "y = 1.00x + -0.40\n",
            "y = 1.00x + -0.43\n",
            "y = 1.00x + -0.47\n",
            "y = 1.00x + -0.50\n",
            "y = 1.00x + -0.53\n",
            "y = 1.00x + -0.57\n",
            "y = 1.00x + -0.60\n",
            "y = 1.00x + -0.63\n",
            "y = 1.00x + -0.67\n",
            "y = 1.00x + -0.70\n",
            "y = 1.00x + -0.73\n",
            "y = 1.00x + -0.77\n",
            "y = 1.00x + -0.80\n",
            "y = 1.00x + -0.83\n",
            "y = 1.00x + -0.87\n",
            "y = 1.00x + -0.90\n",
            "y = 1.00x + -0.93\n",
            "y = 1.00x + -0.97\n",
            "y = 1.00x + -1.00\n",
            "y = 1.00x + -1.03\n",
            "y = 1.00x + -1.07\n",
            "y = 1.00x + -1.10\n",
            "y = 1.00x + -1.13\n",
            "y = 1.00x + -1.16\n",
            "y = 1.00x + -1.19\n",
            "y = 1.00x + -1.22\n",
            "y = 1.00x + -1.24\n",
            "y = 1.00x + -1.27\n",
            "y = 1.00x + -1.30\n",
            "y = 1.00x + -1.32\n",
            "y = 1.00x + -1.34\n",
            "y = 1.00x + -1.37\n",
            "y = 1.00x + -1.39\n",
            "y = 1.00x + -1.41\n",
            "y = 1.00x + -1.43\n",
            "y = 1.00x + -1.45\n",
            "y = 1.00x + -1.47\n",
            "y = 1.00x + -1.49\n",
            "y = 1.00x + -1.51\n",
            "y = 1.00x + -1.52\n",
            "y = 1.00x + -1.54\n",
            "y = 1.00x + -1.55\n",
            "y = 1.00x + -1.57\n",
            "y = 1.00x + -1.58\n",
            "y = 1.00x + -1.59\n",
            "y = 1.00x + -1.61\n",
            "y = 1.00x + -1.62\n",
            "y = 1.00x + -1.63\n",
            "y = 1.00x + -1.64\n",
            "y = 1.00x + -1.65\n",
            "y = 1.00x + -1.65\n",
            "y = 1.00x + -1.66\n",
            "y = 1.00x + -1.67\n",
            "y = 1.00x + -1.68\n",
            "y = 1.00x + -1.68\n",
            "y = 1.00x + -1.69\n",
            "y = 1.00x + -1.69\n",
            "y = 1.00x + -1.69\n",
            "y = 1.00x + -1.69\n",
            "y = 1.00x + -1.70\n",
            "y = 1.00x + -1.70\n",
            "y = 1.00x + -1.69\n",
            "y = 1.00x + -1.69\n",
            "y = 1.00x + -1.69\n",
            "y = 1.00x + -1.69\n",
            "y = 1.00x + -1.68\n",
            "y = 1.00x + -1.68\n",
            "y = 1.00x + -1.67\n",
            "y = 1.00x + -1.67\n",
            "y = 1.00x + -1.66\n",
            "y = 1.00x + -1.66\n"
          ]
        }
      ],
      "source": [
        "import numpy as np\n",
        "import matplotlib.pyplot as plt\n",
        "\n",
        "NEW_DATA =np.genfromtxt('datos-carro-1d.csv', delimiter = ',', skip_header = 5, usecols = (0,1,2))\n",
        "\n",
        "NEW_DATA.resize(82,3)\n",
        "res = NEW_DATA[:,[0,1]]\n",
        "\n",
        "#function creator\n",
        "def functionx(res):\n",
        "  # list comprehension\n",
        "  equations = [f\"y = {(y+1 - y)/(x+1 - x):.2f}x + {(y - (y+1 - y)/(x+1 - x)*x):.2f}\" for x, y in res]\n",
        "  print(\"\\n\".join(equations)) # print each equation on a new line\n",
        "\n",
        "functionx(res)\n",
        "\n",
        "#calcule la derivada punto a punto usando el algoritmo de derivada central\n",
        "#def derivative(f, a, h):\n",
        "  #a =\n",
        "  #return (f(a+h)-f(a-h))/(2*h)\n",
        "#derivative(np.sin, 0, 0.0001)"
      ]
    }
  ]
}