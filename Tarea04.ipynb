{
  "nbformat": 4,
  "nbformat_minor": 0,
  "metadata": {
    "colab": {
      "provenance": [],
      "authorship_tag": "ABX9TyOEdNFkRROGr4TRWRo8mby/",
      "include_colab_link": true
    },
    "kernelspec": {
      "name": "python3",
      "display_name": "Python 3"
    },
    "language_info": {
      "name": "python"
    }
  },
  "cells": [
    {
      "cell_type": "markdown",
      "metadata": {
        "id": "view-in-github",
        "colab_type": "text"
      },
      "source": [
        "<a href=\"https://colab.research.google.com/github/ProfRTRD/Herramientas-comp/blob/main/Tarea04.ipynb\" target=\"_parent\"><img src=\"https://colab.research.google.com/assets/colab-badge.svg\" alt=\"Open In Colab\"/></a>"
      ]
    },
    {
      "cell_type": "code",
      "execution_count": 15,
      "metadata": {
        "colab": {
          "base_uri": "https://localhost:8080/"
        },
        "id": "bW_SxyHOBc3R",
        "outputId": "834aaf5c-6de3-43dc-fce4-86dbf30c1891"
      },
      "outputs": [
        {
          "output_type": "stream",
          "name": "stdout",
          "text": [
            "[0.00010561943054199219, 2.6464462280273438e-05, 1.8835067749023438e-05, 1.6450881958007812e-05, 1.5020370483398438e-05]\n",
            "3.647804260253906e-05\n",
            "3.479539261166803e-05\n",
            "[0.0019757747650146484, 0.0002589225769042969, 0.0002510547637939453, 0.00022482872009277344, 0.0002193450927734375]\n",
            "0.0005859851837158204\n",
            "0.0006950571721453004\n",
            "[0.0010342597961425781, 0.0009093284606933594, 0.0008902549743652344, 0.0009052753448486328, 0.0008957386016845703]\n",
            "0.000926971435546875\n",
            "5.406732037997631e-05\n",
            "[0.009786844253540039, 0.010691642761230469, 0.008578777313232422, 0.008283615112304688, 0.00864720344543457]\n",
            "0.009197616577148437\n",
            "0.0009056068486062001\n",
            "[0.04451298713684082, 0.04885673522949219, 0.046633005142211914, 0.04318428039550781, 0.04399299621582031]\n",
            "0.04543600082397461\n",
            "0.002056147108780692\n",
            "[0.0675804615020752, 0.07374310493469238, 0.0784001350402832, 0.06297183036804199, 0.06622910499572754]\n",
            "0.06978492736816407\n",
            "0.005546364685342138\n",
            "[0.13601326942443848, 0.11275315284729004, 0.11873841285705566, 0.12890291213989258, 0.11911344528198242]\n",
            "0.12310423851013183\n",
            "0.00827525871055881\n",
            "[0.2901289463043213, 0.23423409461975098, 0.2892172336578369, 0.24225544929504395, 0.26574039459228516]\n",
            "0.26431522369384763\n",
            "0.02315166283550895\n",
            "[0.45876336097717285, 0.6970722675323486, 0.7808830738067627, 0.7695536613464355, 0.6200873851776123]\n",
            "0.6652719497680664\n",
            "0.11827029187648908\n",
            "[0.7384114265441895, 0.7129428386688232, 0.7090756893157959, 0.69388747215271, 0.713280200958252]\n",
            "0.7135195255279541\n",
            "0.014318950940583178\n",
            "[1.6097667217254639, 1.6032187938690186, 1.5713682174682617, 2.8313233852386475, 1.5711987018585205]\n",
            "1.8373751640319824\n",
            "0.4972278109221814\n",
            "[2.9395437240600586, 2.9387879371643066, 4.04950475692749, 3.0210728645324707, 2.9334042072296143]\n",
            "3.176462697982788\n",
            "0.4377318263704512\n"
          ]
        }
      ],
      "source": [
        "import numpy as np\n",
        "import time\n",
        "\n",
        "def calculator(n):\n",
        "  Timex =[]\n",
        "  for i in range(5):\n",
        "   a = np.random.rand(n,n)\n",
        "   b = np.random.rand(n,1)\n",
        "   start = time.time()\n",
        "   x = np.linalg.solve(a, b)\n",
        "   end = time.time()\n",
        "   Time = end - start\n",
        "   Timex.append(Time)\n",
        "   #print(np.allclose(np.dot(a, x), b)) #revisara que las soluciones sean correctas\n",
        "  print(Timex)\n",
        "  return Timex\n",
        "\n",
        "def stats(n):\n",
        "  result = calculator(n)\n",
        "  mean = np.mean(result)\n",
        "  std = np.std(result)\n",
        "  print(mean)\n",
        "  print(std)\n",
        "\n",
        "stats(10)\n",
        "stats(100)\n",
        "stats(200)\n",
        "stats(500)\n",
        "stats(1000)\n",
        "stats(1200)\n",
        "stats(1500)\n",
        "stats(2000)\n",
        "stats(2500)\n",
        "stats(3000)\n",
        "stats(4000)\n",
        "stats(5000)\n"
      ]
    },
    {
      "cell_type": "markdown",
      "source": [
        "# Graficar\n"
      ],
      "metadata": {
        "id": "t0WGKuq-2cje"
      }
    },
    {
      "cell_type": "code",
      "source": [
        "import matplotlib.pyplot as plt\n"
      ],
      "metadata": {
        "id": "F-FoSvUx2gPM"
      },
      "execution_count": null,
      "outputs": []
    }
  ]
}