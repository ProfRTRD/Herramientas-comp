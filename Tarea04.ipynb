{
  "nbformat": 4,
  "nbformat_minor": 0,
  "metadata": {
    "colab": {
      "provenance": [],
      "authorship_tag": "ABX9TyN7JoKYbdyb6RH3yxToLqoQ",
      "include_colab_link": true
    },
    "kernelspec": {
      "name": "python3",
      "display_name": "Python 3"
    },
    "language_info": {
      "name": "python"
    }
  },
  "cells": [
    {
      "cell_type": "markdown",
      "metadata": {
        "id": "view-in-github",
        "colab_type": "text"
      },
      "source": [
        "<a href=\"https://colab.research.google.com/github/ProfRTRD/Herramientas-comp/blob/main/Tarea04.ipynb\" target=\"_parent\"><img src=\"https://colab.research.google.com/assets/colab-badge.svg\" alt=\"Open In Colab\"/></a>"
      ]
    },
    {
      "cell_type": "code",
      "execution_count": null,
      "metadata": {
        "colab": {
          "base_uri": "https://localhost:8080/"
        },
        "id": "bW_SxyHOBc3R",
        "outputId": "15c3b7a6-a90f-4971-f302-cb54409d86ae"
      },
      "outputs": [
        {
          "output_type": "stream",
          "name": "stdout",
          "text": [
            "[[ 4.56602218]\n",
            " [ 4.57565834]\n",
            " [ 2.52174807]\n",
            " [ 1.40654957]\n",
            " [-4.79673243]\n",
            " [ 3.94495474]\n",
            " [ 1.36572472]\n",
            " [-1.37788575]\n",
            " [-5.95857163]\n",
            " [-3.39998184]]\n"
          ]
        },
        {
          "output_type": "execute_result",
          "data": {
            "text/plain": [
              "True"
            ]
          },
          "metadata": {},
          "execution_count": 9
        }
      ],
      "source": [
        "import numpy as np\n",
        "import timeit as ti\n",
        "#crear matrices aleatorias A = nxn\n",
        "#crear vectores aleatorios de solucion b = nx1\n",
        "\n",
        "\n",
        "n = 10\n",
        "\n",
        "a = np.random.rand(n,n)\n",
        "\n",
        "b = np.random.rand(n,1)\n",
        "start = ti.timeit()\n",
        "x = np.linalg.solve(a, b)\n",
        "print(x)\n",
        "np.allclose(np.dot(a, x), b)\n"
      ]
    }
  ]
}