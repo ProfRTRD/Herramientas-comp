{
  "nbformat": 4,
  "nbformat_minor": 0,
  "metadata": {
    "colab": {
      "provenance": [],
      "authorship_tag": "ABX9TyM5Lj5gbhkXRSKAh5gkkN6Z",
      "include_colab_link": true
    },
    "kernelspec": {
      "name": "python3",
      "display_name": "Python 3"
    },
    "language_info": {
      "name": "python"
    }
  },
  "cells": [
    {
      "cell_type": "markdown",
      "metadata": {
        "id": "view-in-github",
        "colab_type": "text"
      },
      "source": [
        "<a href=\"https://colab.research.google.com/github/ProfRTRD/Herramientas-comp/blob/main/Tarea04.ipynb\" target=\"_parent\"><img src=\"https://colab.research.google.com/assets/colab-badge.svg\" alt=\"Open In Colab\"/></a>"
      ]
    },
    {
      "cell_type": "code",
      "execution_count": 32,
      "metadata": {
        "colab": {
          "base_uri": "https://localhost:8080/"
        },
        "id": "bW_SxyHOBc3R",
        "outputId": "e8e2c97c-aa09-47d7-f0f9-9000414694bb"
      },
      "outputs": [
        {
          "output_type": "stream",
          "name": "stdout",
          "text": [
            "0\n",
            "1\n",
            "2\n",
            "3\n",
            "4\n",
            "0\n",
            "1\n",
            "2\n",
            "3\n",
            "4\n",
            "0\n",
            "1\n",
            "2\n",
            "3\n",
            "4\n",
            "0\n",
            "1\n",
            "2\n",
            "3\n",
            "4\n",
            "0\n",
            "1\n",
            "2\n",
            "3\n",
            "4\n",
            "0\n",
            "1\n",
            "2\n",
            "3\n",
            "4\n",
            "0\n",
            "1\n",
            "2\n",
            "3\n",
            "4\n",
            "0\n",
            "1\n",
            "2\n",
            "3\n",
            "4\n",
            "0\n",
            "1\n",
            "2\n",
            "3\n",
            "4\n",
            "0\n",
            "1\n",
            "2\n",
            "3\n",
            "4\n",
            "0\n",
            "1\n",
            "2\n",
            "3\n",
            "4\n",
            "0\n",
            "1\n",
            "2\n",
            "3\n",
            "4\n"
          ]
        }
      ],
      "source": [
        "import numpy as np\n",
        "import timeit as ti\n",
        "#crear matrices aleatorias A = nxn\n",
        "#crear vectores aleatorios de solucion b = nx1\n",
        "\n",
        "def calculator(n):\n",
        "  for i in range(5):\n",
        "   a = np.random.rand(n,n)\n",
        "   b = np.random.rand(n,1)\n",
        "   start = ti.timeit()\n",
        "   x = np.linalg.solve(a, b)\n",
        "   end = ti.timeit()\n",
        "   sol = end - start\n",
        "   print(sol,\"\\t   \", np.allclose(np.dot(a, x), b))\n",
        "\n",
        "\n",
        "calculator(10)\n",
        "calculator(100)\n",
        "calculator(200)\n",
        "calculator(500)\n",
        "calculator(1000)\n",
        "calculator(1200)\n",
        "calculator(1500)\n",
        "calculator(2000)\n",
        "calculator(2500)\n",
        "calculator(3000)\n",
        "calculator(4000)\n",
        "calculator(5000)"
      ]
    }
  ]
}