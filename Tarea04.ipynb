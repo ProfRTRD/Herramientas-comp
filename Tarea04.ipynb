{
  "nbformat": 4,
  "nbformat_minor": 0,
  "metadata": {
    "colab": {
      "provenance": [],
      "authorship_tag": "ABX9TyN/N1a60UtFBUtwwqdnmzrE",
      "include_colab_link": true
    },
    "kernelspec": {
      "name": "python3",
      "display_name": "Python 3"
    },
    "language_info": {
      "name": "python"
    }
  },
  "cells": [
    {
      "cell_type": "markdown",
      "metadata": {
        "id": "view-in-github",
        "colab_type": "text"
      },
      "source": [
        "<a href=\"https://colab.research.google.com/github/ProfRTRD/Herramientas-comp/blob/main/Tarea04.ipynb\" target=\"_parent\"><img src=\"https://colab.research.google.com/assets/colab-badge.svg\" alt=\"Open In Colab\"/></a>"
      ]
    },
    {
      "cell_type": "code",
      "execution_count": 10,
      "metadata": {
        "id": "bW_SxyHOBc3R"
      },
      "outputs": [],
      "source": [
        "import numpy as np\n",
        "import time\n",
        "\n",
        "def calculator(n):\n",
        "  Timex =[]\n",
        "  for i in range(5):\n",
        "   a = np.random.rand(n,n)\n",
        "   b = np.random.rand(n,1)\n",
        "   start = time.time()\n",
        "   x = np.linalg.solve(a, b)\n",
        "   end = time.time()\n",
        "   Time = end - start\n",
        "   Timex.append(Time)\n",
        "   #print(Time, \"\\t  \",np.allclose(np.dot(a, x), b)) #revisara que las soluciones sean correctas\n",
        "  return Timex\n",
        "\n",
        "def stats(n):\n",
        "  result = calculator(n)\n",
        "  mean = np.mean(result)\n",
        "  std = np.std(result)\n",
        "  #print(mean)\n",
        "  #print(std)\n",
        "  return mean\n",
        "  return std\n",
        "\n",
        "\n",
        "#descomentar si se quiere verificar si las soluciones son correctas\n",
        "#stats(10)\n",
        "#stats(100)\n",
        "#stats(200)\n",
        "#stats(500)\n",
        "#stats(1000)\n",
        "#stats(1200)\n",
        "#stats(1500)\n",
        "#stats(2000)\n",
        "#stats(2500)\n",
        "#stats(3000)\n",
        "#stats(4000)\n",
        "#stats(5000)"
      ]
    },
    {
      "cell_type": "markdown",
      "source": [
        "# Graficar\n"
      ],
      "metadata": {
        "id": "t0WGKuq-2cje"
      }
    },
    {
      "cell_type": "code",
      "source": [
        "import matplotlib.pyplot as plt\n",
        "#graficar los promedios de tiempo normalizados(divididos) por el tiempo que tomo para la matriz 10x10\n",
        "#incluir barras de error, las cuales serian 3 veces la desviacion estandar\n",
        "n_values = [10, 100, 200, 500, 1000, 1200, 1500, 2000, 2500, 3000, 4000, 5000]\n",
        "\n",
        "# Calculate the mean execution time for each value of n\n",
        "mean_execution_times = [stats(n) for n in n_values]\n",
        "std_execution_times = [stats(n) for n in n_values]\n",
        "std_execution_times = [3 * std for std in std_execution_times]\n",
        "\n",
        "# Plot the mean execution time versus n\n",
        "#plt.plot(n_values, mean_execution_times)\n",
        "plt.errorbar(n_values, mean_execution_times, yerr=std_execution_times)\n",
        "plt.xlabel('n')\n",
        "plt.ylabel('Mean Execution Time')\n",
        "plt.title('Mean Execution Time vs. n')\n",
        "plt.show()"
      ],
      "metadata": {
        "id": "F-FoSvUx2gPM",
        "colab": {
          "base_uri": "https://localhost:8080/",
          "height": 472
        },
        "outputId": "3ef94e2b-9b18-4783-c12b-915c71142a36"
      },
      "execution_count": 12,
      "outputs": [
        {
          "output_type": "display_data",
          "data": {
            "text/plain": [
              "<Figure size 640x480 with 1 Axes>"
            ],
            "image/png": "[encoded data removed]"
          },
          "metadata": {}
        }
      ]
    }
  ]
}